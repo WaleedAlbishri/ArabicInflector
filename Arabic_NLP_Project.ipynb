{
  "cells": [
    {
      "cell_type": "code",
      "execution_count": 5,
      "metadata": {
        "colab": {
          "base_uri": "https://localhost:8080/"
        },
        "id": "IrZz1bnxsFup",
        "outputId": "0e448a23-fe69-49ec-d78b-0cc805cfe016"
      },
      "outputs": [
        {
          "name": "stdout",
          "output_type": "stream",
          "text": [
            "Requirement already satisfied: pyarabic in /usr/local/lib/python3.10/dist-packages (0.6.15)\n",
            "Requirement already satisfied: six>=1.14.0 in /usr/local/lib/python3.10/dist-packages (from pyarabic) (1.16.0)\n"
          ]
        }
      ],
      "source": [
        "pip install pyarabic"
      ]
    },
    {
      "cell_type": "code",
      "execution_count": 8,
      "metadata": {
        "colab": {
          "base_uri": "https://localhost:8080/"
        },
        "id": "dnmEAC0ksV-Z",
        "outputId": "b35eee0d-2fc0-41fe-80ec-bc1069ec651e"
      },
      "outputs": [
        {
          "name": "stdout",
          "output_type": "stream",
          "text": [
            "Requirement already satisfied: nltk in /usr/local/lib/python3.10/dist-packages (3.8.1)\n",
            "Requirement already satisfied: click in /usr/local/lib/python3.10/dist-packages (from nltk) (8.1.7)\n",
            "Requirement already satisfied: joblib in /usr/local/lib/python3.10/dist-packages (from nltk) (1.3.2)\n",
            "Requirement already satisfied: regex>=2021.8.3 in /usr/local/lib/python3.10/dist-packages (from nltk) (2023.6.3)\n",
            "Requirement already satisfied: tqdm in /usr/local/lib/python3.10/dist-packages (from nltk) (4.66.1)\n"
          ]
        }
      ],
      "source": [
        "pip install nltk"
      ]
    },
    {
      "cell_type": "code",
      "execution_count": 9,
      "metadata": {
        "id": "tGYpmzjhr5wc"
      },
      "outputs": [],
      "source": [
        "import nltk\n",
        "from nltk.corpus import wordnet\n",
        "import re\n",
        "from nltk.stem import ISRIStemmer\n",
        "import pyarabic.araby as araby"
      ]
    },
    {
      "cell_type": "code",
      "execution_count": 11,
      "metadata": {
        "colab": {
          "base_uri": "https://localhost:8080/"
        },
        "id": "TzMVeuOVr1q2",
        "outputId": "758301a4-9da5-493c-8bb6-b26fea79886b"
      },
      "outputs": [
        {
          "name": "stderr",
          "output_type": "stream",
          "text": [
            "[nltk_data] Downloading package wordnet to /root/nltk_data...\n",
            "[nltk_data]   Package wordnet is already up-to-date!\n",
            "[nltk_data] Downloading package omw-1.4 to /root/nltk_data...\n",
            "[nltk_data]   Package omw-1.4 is already up-to-date!\n"
          ]
        },
        {
          "data": {
            "text/plain": [
              "True"
            ]
          },
          "execution_count": 11,
          "metadata": {},
          "output_type": "execute_result"
        }
      ],
      "source": [
        " nltk.download('wordnet')\n",
        " nltk.download('omw-1.4')"
      ]
    },
    {
      "cell_type": "code",
      "execution_count": 14,
      "metadata": {
        "colab": {
          "base_uri": "https://localhost:8080/"
        },
        "id": "_wKlzOONquzm",
        "outputId": "f45cb3da-d69b-408d-888e-fd85ed51959c"
      },
      "outputs": [
        {
          "name": "stdout",
          "output_type": "stream",
          "text": [
            "Please enter an english word: play\n",
            "Please enter the type of the word (v for verb || n for noun): v\n",
            "Number of synsets found: 35\n",
            "بارى has these inflections: ['باريت', 'تباري', 'يباري', 'سيباري', 'سأباري', 'يباريا', 'نباري', 'يباريون', 'يباريان', 'تباريون', 'تباريان', 'بارينا', 'باريتم', 'باريوا', 'ألباري', 'سيباريون', 'سيباريان', 'سيبارين', 'تبارين', 'يبارين', 'أنباري']\n",
            "تسلى has these inflections: ['تسليت', 'تتسلي', 'يتسلي', 'سيتسلي', 'سأتسلي', 'يتسليا', 'نتسلي', 'يتسليون', 'يتسليان', 'تتسليون', 'تتسليان', 'تسلينا', 'تسليتم', 'تسليوا', 'ألتسلي', 'سيتسليون', 'سيتسليان', 'سيتسلين', 'تتسلين', 'يتسلين', 'أنتسلي']\n",
            "تلاعب has these inflections: ['تلاعبت', 'تتلاعب', 'يتلاعب', 'سيتلاعب', 'سأتلاعب', 'يتلاعبا', 'نتلاعب', 'يتلاعبون', 'يتلاعبان', 'تتلاعبون', 'تتلاعبان', 'تلاعبنا', 'تلاعبتم', 'تلاعبوا', 'ألتلاعب', 'سيتلاعبون', 'سيتلاعبان', 'سيتلاعبن', 'تتلاعبن', 'يتلاعبن', 'أنتلاعب']\n",
            "تنافس has these inflections: ['تنافست', 'تتنافس', 'يتنافس', 'سيتنافس', 'سأتنافس', 'يتنافسا', 'نتنافس', 'يتنافسون', 'يتنافسان', 'تتنافسون', 'تتنافسان', 'تنافسنا', 'تنافستم', 'تنافسوا', 'ألتنافس', 'سيتنافسون', 'سيتنافسان', 'سيتنافسن', 'تتنافسن', 'يتنافسن', 'أنتنافس']\n",
            "عزف has these inflections: ['عزفت', 'تعزف', 'يعزف', 'سيعزف', 'سأعزف', 'يعزفا', 'نعزف', 'يعزفون', 'يعزفان', 'تعزفون', 'تعزفان', 'عزفنا', 'عزفتم', 'عزفوا', 'ألعزف', 'سيعزفون', 'سيعزفان', 'سيعزفن', 'تعزفن', 'يعزفن', 'أنعزف']\n",
            "عزف has these derivations: ['عازف', 'معزوف', 'معازف', 'عزيف', 'معزف', 'المعزف', 'تعازف', 'عزفة', 'عزفي']\n",
            "لعب has these inflections: ['لعبت', 'تلعب', 'يلعب', 'سيلعب', 'سألعب', 'يلعبا', 'نلعب', 'يلعبون', 'يلعبان', 'تلعبون', 'تلعبان', 'لعبنا', 'لعبتم', 'لعبوا', 'أللعب', 'سيلعبون', 'سيلعبان', 'سيلعبن', 'تلعبن', 'يلعبن', 'أنلعب']\n",
            "لعب has these derivations: ['لاعب', 'ملعوب', 'ملاعب', 'لعيب', 'ملعب', 'الملعب', 'تلاعب', 'لعبة', 'لعبي']\n",
            "مثل has these inflections: ['مثلت', 'تمثل', 'يمثل', 'سيمثل', 'سأمثل', 'يمثلا', 'نمثل', 'يمثلون', 'يمثلان', 'تمثلون', 'تمثلان', 'مثلنا', 'مثلتم', 'مثلوا', 'ألمثل', 'سيمثلون', 'سيمثلان', 'سيمثلن', 'تمثلن', 'يمثلن', 'أنمثل']\n",
            "مثل has these derivations: ['ماثل', 'ممثول', 'مماثل', 'مثيل', 'ممثل', 'الممثل', 'تماثل', 'مثلة', 'مثلي']\n",
            "خدم has these inflections: ['خدمت', 'تخدم', 'يخدم', 'سيخدم', 'سأخدم', 'يخدما', 'نخدم', 'يخدمون', 'يخدمان', 'تخدمون', 'تخدمان', 'خدمنا', 'خدمتم', 'خدموا', 'ألخدم', 'سيخدمون', 'سيخدمان', 'سيخدمن', 'تخدمن', 'يخدمن', 'أنخدم']\n",
            "خدم has these derivations: ['خادم', 'مخدوم', 'مخادم', 'خديم', 'مخدم', 'المخدم', 'تخادم', 'خدمة', 'خدمي']\n",
            "نفذ has these inflections: ['نفذت', 'تنفذ', 'ينفذ', 'سينفذ', 'سأنفذ', 'ينفذا', 'ننفذ', 'ينفذون', 'ينفذان', 'تنفذون', 'تنفذان', 'نفذنا', 'نفذتم', 'نفذوا', 'ألنفذ', 'سينفذون', 'سينفذان', 'سينفذن', 'تنفذن', 'ينفذن', 'أننفذ']\n",
            "نفذ has these derivations: ['نافذ', 'منفوذ', 'منافذ', 'نفيذ', 'منفذ', 'المنفذ', 'تنافذ', 'نفذة', 'نفذي']\n",
            "عبث has these inflections: ['عبثت', 'تعبث', 'يعبث', 'سيعبث', 'سأعبث', 'يعبثا', 'نعبث', 'يعبثون', 'يعبثان', 'تعبثون', 'تعبثان', 'عبثنا', 'عبثتم', 'عبثوا', 'ألعبث', 'سيعبثون', 'سيعبثان', 'سيعبثن', 'تعبثن', 'يعبثن', 'أنعبث']\n",
            "عبث has these derivations: ['عابث', 'معبوث', 'معابث', 'عبيث', 'معبث', 'المعبث', 'تعابث', 'عبثة', 'عبثي']\n",
            "لها has these inflections: ['لهات', 'تلها', 'يلها', 'سيلها', 'سألها', 'يلهاا', 'نلها', 'يلهاون', 'يلهاان', 'تلهاون', 'تلهاان', 'لهانا', 'لهاتم', 'لهاوا', 'أللها', 'سيلهاون', 'سيلهاان', 'سيلهان', 'تلهان', 'يلهان', 'أنلها']\n",
            "لها has these derivations: ['لاها', 'ملهوا', 'ملاها', 'لهيا', 'ملها', 'الملها', 'تلاها', 'لهاة', 'لهاي']\n",
            "تلهى has these inflections: ['تلهيت', 'تتلهي', 'يتلهي', 'سيتلهي', 'سأتلهي', 'يتلهيا', 'نتلهي', 'يتلهيون', 'يتلهيان', 'تتلهيون', 'تتلهيان', 'تلهينا', 'تلهيتم', 'تلهيوا', 'ألتلهي', 'سيتلهيون', 'سيتلهيان', 'سيتلهين', 'تتلهين', 'يتلهين', 'أنتلهي']\n",
            "خدع has these inflections: ['خدعت', 'تخدع', 'يخدع', 'سيخدع', 'سأخدع', 'يخدعا', 'نخدع', 'يخدعون', 'يخدعان', 'تخدعون', 'تخدعان', 'خدعنا', 'خدعتم', 'خدعوا', 'ألخدع', 'سيخدعون', 'سيخدعان', 'سيخدعن', 'تخدعن', 'يخدعن', 'أنخدع']\n",
            "خدع has these derivations: ['خادع', 'مخدوع', 'مخادع', 'خديع', 'مخدع', 'المخدع', 'تخادع', 'خدعة', 'خدعي']\n",
            "عرض has these inflections: ['عرضت', 'تعرض', 'يعرض', 'سيعرض', 'سأعرض', 'يعرضا', 'نعرض', 'يعرضون', 'يعرضان', 'تعرضون', 'تعرضان', 'عرضنا', 'عرضتم', 'عرضوا', 'ألعرض', 'سيعرضون', 'سيعرضان', 'سيعرضن', 'تعرضن', 'يعرضن', 'أنعرض']\n",
            "عرض has these derivations: ['عارض', 'معروض', 'معارض', 'عريض', 'معرض', 'المعرض', 'تعارض', 'عرضة', 'عرضي']\n",
            "خاطر has these inflections: ['خاطرت', 'تخاطر', 'يخاطر', 'سيخاطر', 'سأخاطر', 'يخاطرا', 'نخاطر', 'يخاطرون', 'يخاطران', 'تخاطرون', 'تخاطران', 'خاطرنا', 'خاطرتم', 'خاطروا', 'ألخاطر', 'سيخاطرون', 'سيخاطران', 'سيخاطرن', 'تخاطرن', 'يخاطرن', 'أنخاطر']\n",
            "راهن has these inflections: ['راهنت', 'تراهن', 'يراهن', 'سيراهن', 'سأراهن', 'يراهنا', 'نراهن', 'يراهنون', 'يراهنان', 'تراهنون', 'تراهنان', 'راهننا', 'راهنتم', 'راهنوا', 'ألراهن', 'سيراهنون', 'سيراهنان', 'سيراهنن', 'تراهنن', 'يراهنن', 'أنراهن']\n",
            "قامر has these inflections: ['قامرت', 'تقامر', 'يقامر', 'سيقامر', 'سأقامر', 'يقامرا', 'نقامر', 'يقامرون', 'يقامران', 'تقامرون', 'تقامران', 'قامرنا', 'قامرتم', 'قامروا', 'ألقامر', 'سيقامرون', 'سيقامران', 'سيقامرن', 'تقامرن', 'يقامرن', 'أنقامر']\n",
            "اتحد has these inflections: ['اتحدت', 'تاتحد', 'ياتحد', 'سياتحد', 'سأاتحد', 'ياتحدا', 'ناتحد', 'ياتحدون', 'ياتحدان', 'تاتحدون', 'تاتحدان', 'اتحدنا', 'اتحدتم', 'اتحدوا', 'ألاتحد', 'سياتحدون', 'سياتحدان', 'سياتحدن', 'تاتحدن', 'ياتحدن', 'أناتحد']\n",
            "اتخذ has these inflections: ['اتخذت', 'تاتخذ', 'ياتخذ', 'سياتخذ', 'سأاتخذ', 'ياتخذا', 'ناتخذ', 'ياتخذون', 'ياتخذان', 'تاتخذون', 'تاتخذان', 'اتخذنا', 'اتخذتم', 'اتخذوا', 'ألاتخذ', 'سياتخذون', 'سياتخذان', 'سياتخذن', 'تاتخذن', 'ياتخذن', 'أناتخذ']\n",
            "اجتمع has these inflections: ['اجتمعت', 'تاجتمع', 'ياجتمع', 'سياجتمع', 'سأاجتمع', 'ياجتمعا', 'ناجتمع', 'ياجتمعون', 'ياجتمعان', 'تاجتمعون', 'تاجتمعان', 'اجتمعنا', 'اجتمعتم', 'اجتمعوا', 'ألاجتمع', 'سياجتمعون', 'سياجتمعان', 'سياجتمعن', 'تاجتمعن', 'ياجتمعن', 'أناجتمع']\n",
            "استخدم has these inflections: ['استخدمت', 'تاستخدم', 'ياستخدم', 'سياستخدم', 'سأاستخدم', 'ياستخدما', 'ناستخدم', 'ياستخدمون', 'ياستخدمان', 'تاستخدمون', 'تاستخدمان', 'استخدمنا', 'استخدمتم', 'استخدموا', 'ألاستخدم', 'سياستخدمون', 'سياستخدمان', 'سياستخدمن', 'تاستخدمن', 'ياستخدمن', 'أناستخدم']\n",
            "التزم has these inflections: ['التزمت', 'تالتزم', 'يالتزم', 'سيالتزم', 'سأالتزم', 'يالتزما', 'نالتزم', 'يالتزمون', 'يالتزمان', 'تالتزمون', 'تالتزمان', 'التزمنا', 'التزمتم', 'التزموا', 'ألالتزم', 'سيالتزمون', 'سيالتزمان', 'سيالتزمن', 'تالتزمن', 'يالتزمن', 'أنالتزم']\n",
            "التقى has these inflections: ['التقيت', 'تالتقي', 'يالتقي', 'سيالتقي', 'سأالتقي', 'يالتقيا', 'نالتقي', 'يالتقيون', 'يالتقيان', 'تالتقيون', 'تالتقيان', 'التقينا', 'التقيتم', 'التقيوا', 'ألالتقي', 'سيالتقيون', 'سيالتقيان', 'سيالتقين', 'تالتقين', 'يالتقين', 'أنالتقي']\n",
            "تبنى has these inflections: ['تبنيت', 'تتبني', 'يتبني', 'سيتبني', 'سأتبني', 'يتبنيا', 'نتبني', 'يتبنيون', 'يتبنيان', 'تتبنيون', 'تتبنيان', 'تبنينا', 'تبنيتم', 'تبنيوا', 'ألتبني', 'سيتبنيون', 'سيتبنيان', 'سيتبنين', 'تتبنين', 'يتبنين', 'أنتبني']\n",
            "تحدى has these inflections: ['تحديت', 'تتحدي', 'يتحدي', 'سيتحدي', 'سأتحدي', 'يتحديا', 'نتحدي', 'يتحديون', 'يتحديان', 'تتحديون', 'تتحديان', 'تحدينا', 'تحديتم', 'تحديوا', 'ألتحدي', 'سيتحديون', 'سيتحديان', 'سيتحدين', 'تتحدين', 'يتحدين', 'أنتحدي']\n",
            "تصادم has these inflections: ['تصادمت', 'تتصادم', 'يتصادم', 'سيتصادم', 'سأتصادم', 'يتصادما', 'نتصادم', 'يتصادمون', 'يتصادمان', 'تتصادمون', 'تتصادمان', 'تصادمنا', 'تصادمتم', 'تصادموا', 'ألتصادم', 'سيتصادمون', 'سيتصادمان', 'سيتصادمن', 'تتصادمن', 'يتصادمن', 'أنتصادم']\n",
            "تعرف has these inflections: ['تعرفت', 'تتعرف', 'يتعرف', 'سيتعرف', 'سأتعرف', 'يتعرفا', 'نتعرف', 'يتعرفون', 'يتعرفان', 'تتعرفون', 'تتعرفان', 'تعرفنا', 'تعرفتم', 'تعرفوا', 'ألتعرف', 'سيتعرفون', 'سيتعرفان', 'سيتعرفن', 'تتعرفن', 'يتعرفن', 'أنتعرف']\n",
            "تعود has these inflections: ['تعودت', 'تتعود', 'يتعود', 'سيتعود', 'سأتعود', 'يتعودا', 'نتعود', 'يتعودون', 'يتعودان', 'تتعودون', 'تتعودان', 'تعودنا', 'تعودتم', 'تعودوا', 'ألتعود', 'سيتعودون', 'سيتعودان', 'سيتعودن', 'تتعودن', 'يتعودن', 'أنتعود']\n",
            "تقابل has these inflections: ['تقابلت', 'تتقابل', 'يتقابل', 'سيتقابل', 'سأتقابل', 'يتقابلا', 'نتقابل', 'يتقابلون', 'يتقابلان', 'تتقابلون', 'تتقابلان', 'تقابلنا', 'تقابلتم', 'تقابلوا', 'ألتقابل', 'سيتقابلون', 'سيتقابلان', 'سيتقابلن', 'تتقابلن', 'يتقابلن', 'أنتقابل']\n",
            "صادف has these inflections: ['صادفت', 'تصادف', 'يصادف', 'سيصادف', 'سأصادف', 'يصادفا', 'نصادف', 'يصادفون', 'يصادفان', 'تصادفون', 'تصادفان', 'صادفنا', 'صادفتم', 'صادفوا', 'ألصادف', 'سيصادفون', 'سيصادفان', 'سيصادفن', 'تصادفن', 'يصادفن', 'أنصادف']\n",
            "قابل has these inflections: ['قابلت', 'تقابل', 'يقابل', 'سيقابل', 'سأقابل', 'يقابلا', 'نقابل', 'يقابلون', 'يقابلان', 'تقابلون', 'تقابلان', 'قابلنا', 'قابلتم', 'قابلوا', 'ألقابل', 'سيقابلون', 'سيقابلان', 'سيقابلن', 'تقابلن', 'يقابلن', 'أنقابل']\n",
            "لاعب has these inflections: ['لاعبت', 'تلاعب', 'يلاعب', 'سيلاعب', 'سألاعب', 'يلاعبا', 'نلاعب', 'يلاعبون', 'يلاعبان', 'تلاعبون', 'تلاعبان', 'لاعبنا', 'لاعبتم', 'لاعبوا', 'أللاعب', 'سيلاعبون', 'سيلاعبان', 'سيلاعبن', 'تلاعبن', 'يلاعبن', 'أنلاعب']\n",
            "لاقى has these inflections: ['لاقيت', 'تلاقي', 'يلاقي', 'سيلاقي', 'سألاقي', 'يلاقيا', 'نلاقي', 'يلاقيون', 'يلاقيان', 'تلاقيون', 'تلاقيان', 'لاقينا', 'لاقيتم', 'لاقيوا', 'أللاقي', 'سيلاقيون', 'سيلاقيان', 'سيلاقين', 'تلاقين', 'يلاقين', 'أنلاقي']\n",
            "واجه has these inflections: ['واجهت', 'تواجه', 'يواجه', 'سيواجه', 'سأواجه', 'يواجها', 'نواجه', 'يواجهون', 'يواجهان', 'تواجهون', 'تواجهان', 'واجهنا', 'واجهتم', 'واجهوا', 'ألواجه', 'سيواجهون', 'سيواجهان', 'سيواجهن', 'تواجهن', 'يواجهن', 'أنواجه']\n"
          ]
        }
      ],
      "source": [
        "# Definitions for verb and noun inflections\n",
        "inflectionVerbs = [('E', 'ت'), ('S', 'ت'), ('S', 'ي'), ('S', 'سي'), ('S', 'سأ'),\n",
        "                    ('B', 'ي', 'ا'), ('S', 'ن'), ('B', 'ي', 'ون'), ('B', 'ي', 'ان'),\n",
        "                    ('B', 'ت', 'ون'), ('B', 'ت', 'ان'), ('E', 'نا'), ('E', 'تم'), ('E', 'وا'),\n",
        "                    ('S', 'أل'), ('B', 'سي', 'ون'), ('B', 'سي', 'ان'), ('B', 'سي', 'ن'), ('B', 'ت', 'ن'),\n",
        "                    ('B', 'ي', 'ن'), ('S', 'أن')]\n",
        "inflectionsNouns = [('E', 'ا'), ('E', 'ان'), ('E', 'ين'), ('E', 'ون'), ('S', 'ال')]\n",
        "stemmer = ISRIStemmer()\n",
        "\n",
        "# Functions for deriving words and inflecting verbs and nouns\n",
        "def derive_words(lemma):\n",
        "    derived_words = []\n",
        "    if len(lemma) == 3:\n",
        "        # Process for three-letter roots\n",
        "        derived_words.extend([\n",
        "            lemma[0] + \"ا\" + lemma[1:],\n",
        "            'م' + lemma[0:2] + 'و' + lemma[-1],\n",
        "            'م' + lemma[0] + 'ا' + lemma[1] + lemma[2],\n",
        "            lemma[0:2] + 'ي' + lemma[-1],\n",
        "            \"م\" + lemma,\n",
        "            \"الم\" + lemma,\n",
        "            'ت' + lemma[0] + 'ا' + lemma[1] + lemma[2],\n",
        "            lemma + \"ة\",\n",
        "            lemma + \"ي\"\n",
        "        ])\n",
        "    if lemma[0] == 'ي':\n",
        "        # Additional processing for roots starting with 'ي'\n",
        "        base = lemma[1:len(lemma) - 2]\n",
        "        last_two = lemma[-2:]\n",
        "        derived_words.extend([\n",
        "            'مُ' + base + last_two[0] + \"َ\" + last_two[1],\n",
        "            'مُ' + base + last_two[0] + 'ِ' + last_two[1]\n",
        "        ])\n",
        "    return derived_words\n",
        "\n",
        "def inflect_verbs(lemma):\n",
        "    inflected_verbs = []\n",
        "    if lemma[-1] == 'ى':\n",
        "        lemma = lemma[:-1] + 'ي'\n",
        "    for inflection in inflectionVerbs:\n",
        "        if inflection[0] == 'S':\n",
        "            inflected_verbs.append(inflection[1] + lemma)\n",
        "        elif inflection[0] == 'E':\n",
        "            inflected_verbs.append(lemma + inflection[1])\n",
        "        elif inflection[0] == 'B':\n",
        "            inflected_verbs.append(inflection[1] + lemma + inflection[2])\n",
        "    return inflected_verbs\n",
        "\n",
        "def inflect_nouns(lemma):\n",
        "    inflected_nouns = []\n",
        "    for inflection in inflectionsNouns:\n",
        "        if inflection[0] == 'S':\n",
        "            inflected_nouns.append(inflection[1] + lemma)\n",
        "        elif lemma[-1] != 'ة' and inflection[0] == 'E':\n",
        "            if inflection[1] == 'ون':\n",
        "                stemmed_noun = stemmer.stem(lemma)\n",
        "                after_filter = araby.strip_diacritics(lemma)\n",
        "                if stemmed_noun == after_filter:\n",
        "                    inflected_nouns.append(lemma + inflection[1])\n",
        "            elif inflection[1] == 'ا':\n",
        "                inflected_nouns.append(lemma + \"ً\" + inflection[1])\n",
        "            else:\n",
        "                inflected_nouns.append(lemma + inflection[1])\n",
        "    return inflected_nouns\n",
        "\n",
        "\n",
        "word = input(\"Please enter an english word: \").lower().strip()\n",
        "word_type = input(\"Please enter the type of the word (v for verb || n for noun): \").lower().strip()\n",
        "synsets = wordnet.synsets(word, pos=word_type)\n",
        "print(f'Number of synsets found: {len(synsets)}')\n",
        "\n",
        "set_of_used_lemmas = set()\n",
        "for synset in synsets:\n",
        "    lemmas_ar = synset.lemma_names('arb')\n",
        "    for lemma in lemmas_ar:\n",
        "        lemma = araby.strip_diacritics(lemma)\n",
        "        if lemma in set_of_used_lemmas or re.search('_', lemma):\n",
        "            continue\n",
        "        if word_type == 'v':\n",
        "            inflected_verbs = inflect_verbs(lemma)\n",
        "            derived_words = derive_words(lemma)\n",
        "            print(f\"{lemma} has these inflections: {inflected_verbs}\")\n",
        "            if derived_words:\n",
        "                print(f\"{lemma} has these derivations: {derived_words}\")\n",
        "        elif word_type == 'n':\n",
        "            inflected_nouns = inflect_nouns(lemma)\n",
        "            print(f\"{lemma} has these inflections: {inflected_nouns}\")\n",
        "        set_of_used_lemmas.add(lemma)\n"
      ]
    },
    {
      "cell_type": "code",
      "execution_count": null,
      "metadata": {
        "id": "AA8-QaH1xxCo"
      },
      "outputs": [],
      "source": []
    }
  ],
  "metadata": {
    "colab": {
      "provenance": []
    },
    "kernelspec": {
      "display_name": "Python 3",
      "name": "python3"
    },
    "language_info": {
      "name": "python"
    }
  },
  "nbformat": 4,
  "nbformat_minor": 0
}
